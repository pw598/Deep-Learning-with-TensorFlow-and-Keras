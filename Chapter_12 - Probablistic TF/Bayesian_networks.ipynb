{
 "cells": [
  {
   "cell_type": "markdown",
   "metadata": {
    "id": "iRkai9yG3_kG"
   },
   "source": [
    "# Bayesian networks"
   ]
  },
  {
   "cell_type": "code",
   "execution_count": null,
   "metadata": {
    "id": "v9pWH4054DW1"
   },
   "outputs": [],
   "source": [
    "from IPython.display import Image     #This is used for rendering images in the notebook"
   ]
  },
  {
   "cell_type": "code",
   "execution_count": null,
   "metadata": {
    "colab": {
     "base_uri": "https://localhost:8080/",
     "height": 742
    },
    "id": "GrfocRqu4QkX",
    "outputId": "22256f12-c718-42c7-d002-789f411c0923"
   },
   "outputs": [],
   "source": [
    "Image('/content/B18331_12_08.png', width=600) #This is used for rendering"
   ]
  },
  {
   "cell_type": "code",
   "execution_count": null,
   "metadata": {
    "id": "Lz6Tjda-uEYu"
   },
   "outputs": [],
   "source": [
    "from tensorflow_probability.python import distributions as tfd\n",
    "import tensorflow_probability.python.experimental.marginalize as marginalize\n",
    "import functools\n",
    "import itertools\n",
    "\n",
    "Root = tfd.JointDistributionCoroutine.Root\n",
    "def model():\n",
    "  cloudy = yield Root(tfd.Bernoulli(probs=0.2, dtype=tf.int32))\n",
    "  sprinkler_prob = [0.5, 0.1]\n",
    "  sprinkler_prob = tf.gather(sprinkler_prob, cloudy)\n",
    "  sprinkler = yield tfd.Bernoulli(probs=sprinkler_prob, dtype=tf.int32)\n",
    "  raining_prob = [0.1, 0.8]\n",
    "  raining_prob = tf.gather(raining_prob, cloudy)\n",
    "  raining = yield tfd.Bernoulli(probs=raining_prob, dtype=tf.int32)\n",
    "\n",
    "  grass_wet_prob = [[0.0, 0.8],\n",
    "                    [0.9, 0.99]]\n",
    "  grass_wet_prob = tf.gather_nd(grass_wet_prob, _stack(sprinkler, raining))\n",
    "  grass_wet = yield tfd.Bernoulli(probs=grass_wet_prob, dtype=tf.int32)\n",
    "\n",
    "\n",
    "\n",
    "def _conform(ts):\n",
    "  \"\"\"Broadcast all arguments to a common shape.\"\"\"\n",
    "\n",
    "  shape = functools.reduce(\n",
    "      tf.broadcast_static_shape, [a.shape for a in ts])\n",
    "  return [tf.broadcast_to(a, shape) for a in ts]\n",
    "\n",
    "\n",
    "def _stack(*ts):\n",
    "  return tf.stack(_conform(ts), axis=-1)"
   ]
  },
  {
   "cell_type": "code",
   "execution_count": null,
   "metadata": {
    "id": "vJ9F8nsnuHuM"
   },
   "outputs": [],
   "source": [
    "d = marginalize.MarginalizableJointDistributionCoroutine(model)\n",
    "    # We want to know the probability that it was raining\n",
    "    # and we want to marginalize over the state of the sprinkler.\n",
    "observations = ['marginalize',  # We don't know the cloudy state\n",
    "                'tabulate', # We want to know the probability it rained.\n",
    "                'marginalize',  # We don't know the sprinkler state.\n",
    "                1]              # We observed a wet lawn.\n",
    "p = tf.exp(d.marginalized_log_prob(observations))\n",
    "p = p / tf.reduce_sum(p)"
   ]
  },
  {
   "cell_type": "code",
   "execution_count": null,
   "metadata": {
    "colab": {
     "base_uri": "https://localhost:8080/"
    },
    "id": "nU8bixY7uNVa",
    "outputId": "753d9c29-51c3-4c97-fee4-aa8fe8751956"
   },
   "outputs": [],
   "source": [
    "p.numpy()"
   ]
  },
  {
   "cell_type": "code",
   "execution_count": null,
   "metadata": {
    "id": "lZjAWuMxoH0r"
   },
   "outputs": [],
   "source": [
    "observations = ['marginalize',  \n",
    "                'marginalize', \n",
    "                'tabulate',  \n",
    "                1]              \n",
    "p = tf.exp(d.marginalized_log_prob(observations))\n",
    "p = p / tf.reduce_sum(p)"
   ]
  },
  {
   "cell_type": "code",
   "execution_count": null,
   "metadata": {
    "id": "KG3ml5mW3JaI"
   },
   "outputs": [],
   "source": [
    "observations = ['marginalize',  \n",
    "                0, \n",
    "                0 ,  \n",
    "                'tabulate']              \n",
    "p = tf.exp(d.marginalized_log_prob(observations))\n",
    "p = p / tf.reduce_sum(p)"
   ]
  },
  {
   "cell_type": "code",
   "execution_count": null,
   "metadata": {
    "colab": {
     "base_uri": "https://localhost:8080/"
    },
    "id": "NMAtuzy5smZP",
    "outputId": "bfbc3209-5705-41fa-b633-28229a7e2904"
   },
   "outputs": [],
   "source": [
    "p"
   ]
  },
  {
   "cell_type": "code",
   "execution_count": null,
   "metadata": {
    "id": "L50Tk7fzoEFQ"
   },
   "outputs": [],
   "source": []
  }
 ],
 "metadata": {
  "colab": {
   "collapsed_sections": [],
   "provenance": []
  },
  "kernelspec": {
   "display_name": "Python 3",
   "language": "python",
   "name": "python3"
  },
  "language_info": {
   "name": "python"
  }
 },
 "nbformat": 4,
 "nbformat_minor": 4
}
