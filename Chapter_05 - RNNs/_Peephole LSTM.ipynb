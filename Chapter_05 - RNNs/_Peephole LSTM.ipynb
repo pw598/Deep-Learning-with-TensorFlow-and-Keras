{
 "cells": [
  {
   "cell_type": "code",
   "execution_count": 1,
   "id": "2b670d51",
   "metadata": {},
   "outputs": [
    {
     "name": "stderr",
     "output_type": "stream",
     "text": [
      "/home/ana007652/.local/lib/python3.6/site-packages/keras/layers/recurrent.py:2570: UserWarning: `tf.keras.experimental.PeepholeLSTMCell` is deprecated and will be removed in a future version. Please use tensorflow_addons.rnn.PeepholeLSTMCell instead.\n",
      "  warnings.warn('`tf.keras.experimental.PeepholeLSTMCell` is deprecated '\n"
     ]
    },
    {
     "name": "stdout",
     "output_type": "stream",
     "text": [
      "Model: \"model\"\n",
      "_________________________________________________________________\n",
      "Layer (type)                 Output Shape              Param #   \n",
      "=================================================================\n",
      "input_1 (InputLayer)         [(None, 10, 128)]         0         \n",
      "_________________________________________________________________\n",
      "rnn (RNN)                    (None, 256)               395008    \n",
      "=================================================================\n",
      "Total params: 395,008\n",
      "Trainable params: 395,008\n",
      "Non-trainable params: 0\n",
      "_________________________________________________________________\n",
      "input shape: (16, 10, 128) output shape: (16, 256)\n"
     ]
    }
   ],
   "source": [
    "import numpy as np\n",
    "import tensorflow as tf\n",
    "\n",
    "batch_size = 16\n",
    "num_timesteps = 10\n",
    "embedding_dim = 128\n",
    "hidden_dim = 256\n",
    "\n",
    "inputs = tf.keras.Input(shape=(num_timesteps, embedding_dim))\n",
    "\n",
    "peephole_lstm_cell = tf.keras.experimental.PeepholeLSTMCell(hidden_dim)\n",
    "rnn_layer = tf.keras.layers.RNN(peephole_lstm_cell)\n",
    "\n",
    "outputs = rnn_layer(inputs)\n",
    "\n",
    "model = tf.keras.models.Model(inputs=[inputs], outputs=[outputs])\n",
    "model.compile(loss=\"categorical_crossentropy\", optimizer=\"adam\")\n",
    "model.summary()\n",
    "\n",
    "input = np.random.uniform(size=(batch_size, num_timesteps, embedding_dim))\n",
    "output = model.predict(input)\n",
    "print(\"input shape:\", input.shape, \"output shape:\", output.shape)\n"
   ]
  },
  {
   "cell_type": "code",
   "execution_count": null,
   "id": "022e4e4a",
   "metadata": {},
   "outputs": [],
   "source": []
  }
 ],
 "metadata": {
  "kernelspec": {
   "display_name": "Python 3",
   "language": "python",
   "name": "python3"
  },
  "language_info": {
   "codemirror_mode": {
    "name": "ipython",
    "version": 3
   },
   "file_extension": ".py",
   "mimetype": "text/x-python",
   "name": "python",
   "nbconvert_exporter": "python",
   "pygments_lexer": "ipython3",
   "version": "3.6.12"
  }
 },
 "nbformat": 4,
 "nbformat_minor": 5
}
