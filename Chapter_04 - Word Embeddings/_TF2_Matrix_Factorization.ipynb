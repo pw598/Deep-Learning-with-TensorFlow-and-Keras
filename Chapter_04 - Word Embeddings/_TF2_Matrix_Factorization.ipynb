{
 "cells": [
  {
   "cell_type": "code",
   "execution_count": 1,
   "id": "37fcbbe4",
   "metadata": {},
   "outputs": [
    {
     "name": "stdout",
     "output_type": "stream",
     "text": [
      "Model: \"matrix_factorization_model\"\n",
      "_________________________________________________________________\n",
      "Layer (type)                 Output Shape              Param #   \n",
      "=================================================================\n",
      "matrix_factorization_layer ( multiple                  90000     \n",
      "_________________________________________________________________\n",
      "activation (Activation)      multiple                  0         \n",
      "=================================================================\n",
      "Total params: 90,000\n",
      "Trainable params: 90,000\n",
      "Non-trainable params: 0\n",
      "_________________________________________________________________\n",
      "(1000, 15) (5000, 15)\n"
     ]
    },
    {
     "name": "stderr",
     "output_type": "stream",
     "text": [
      "/home/ana007652/.local/lib/python3.6/site-packages/keras/engine/base_layer.py:2223: UserWarning: `layer.add_variable` is deprecated and will be removed in a future version. Please use `layer.add_weight` method instead.\n",
      "  warnings.warn('`layer.add_variable` is deprecated and '\n"
     ]
    }
   ],
   "source": [
    "import numpy as np\n",
    "import tensorflow as tf\n",
    "\n",
    "class MatrixFactorizationLayer(tf.keras.layers.Layer):\n",
    "    def __init__(self, emb_sz, **kwargs):\n",
    "        super(MatrixFactorizationLayer, self).__init__(**kwargs)\n",
    "        self.emb_sz = emb_sz\n",
    "\n",
    "    def build(self, input_shape):\n",
    "        num_rows, num_cols = input_shape\n",
    "        self.P = self.add_variable(\"P\", \n",
    "            shape=[num_rows, self.emb_sz], \n",
    "            dtype=tf.float32,\n",
    "            initializer=tf.initializers.GlorotUniform)\n",
    "        self.Q = self.add_variable(\"Q\", \n",
    "            shape=[num_cols, self.emb_sz],\n",
    "            dtype=tf.float32, \n",
    "            initializer=tf.initializers.GlorotUniform)\n",
    "\n",
    "    def call(self, input):\n",
    "        return tf.matmul(self.P, tf.transpose(self.Q))\n",
    "\n",
    "\n",
    "class MatrixFactorizationModel(tf.keras.Model):\n",
    "    def __init__(self, embedding_size):\n",
    "        super(MatrixFactorizationModel, self).__init__()\n",
    "        self.mfl = MatrixFactorizationLayer(embedding_size)\n",
    "        self.sigmoid = tf.keras.layers.Activation(\"sigmoid\")\n",
    "\n",
    "    def call(self, x):\n",
    "        x = self.mfl(x)\n",
    "        x = self.sigmoid(x)\n",
    "        return x\n",
    "\n",
    "\n",
    "def loss_fn(source, target):\n",
    "    mse = tf.keras.losses.MeanSquaredError()\n",
    "    loss = mse(source, target)\n",
    "    return loss\n",
    "\n",
    "\n",
    "EMBEDDING_SIZE = 15\n",
    "NUM_ROWS = 1000\n",
    "NUM_COLS = 5000\n",
    "\n",
    "# this is the input matrix R, which we are currently spoofing\n",
    "# with a random matrix (this should be sparse)\n",
    "R = np.random.random((NUM_ROWS, NUM_COLS))\n",
    "\n",
    "model = MatrixFactorizationModel(EMBEDDING_SIZE)\n",
    "model.build(input_shape=R.shape)\n",
    "model.summary()\n",
    "\n",
    "optimizer = tf.optimizers.RMSprop(learning_rate=1e-3, momentum=0.9)\n",
    "\n",
    "# # train model\n",
    "# losses, steps = [], []\n",
    "# for i in range(5000):\n",
    "#     with tf.GradientTape() as tape:\n",
    "#         Rprime = model(R)\n",
    "#         loss = loss_fn(R, Rprime)\n",
    "#         if i % 100 == 0:\n",
    "#             loss_value = loss.numpy()\n",
    "#             losses.append(loss_value)\n",
    "#             steps.append(i)\n",
    "#             print(\"step: {:d}, loss: {:.3f}\".format(i, loss_value))\n",
    "#     variables = model.trainable_variables\n",
    "#     gradients = tape.gradient(loss, variables)\n",
    "#     optimizer.apply_gradients(zip(gradients, variables))\n",
    "\n",
    "# after training, retrieve P and Q\n",
    "mf_layer = model.layers[0]\n",
    "P, Q = [weight.numpy() for weight in mf_layer.weights]\n",
    "print(P.shape, Q.shape)\n"
   ]
  }
 ],
 "metadata": {
  "kernelspec": {
   "display_name": "Python 3",
   "language": "python",
   "name": "python3"
  },
  "language_info": {
   "codemirror_mode": {
    "name": "ipython",
    "version": 3
   },
   "file_extension": ".py",
   "mimetype": "text/x-python",
   "name": "python",
   "nbconvert_exporter": "python",
   "pygments_lexer": "ipython3",
   "version": "3.6.12"
  }
 },
 "nbformat": 4,
 "nbformat_minor": 5
}
