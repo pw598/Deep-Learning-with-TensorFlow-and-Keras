{
 "cells": [
  {
   "cell_type": "code",
   "execution_count": 6,
   "id": "71a51629",
   "metadata": {},
   "outputs": [
    {
     "name": "stdout",
     "output_type": "stream",
     "text": [
      "(2, 7, 1024)\n"
     ]
    }
   ],
   "source": [
    "import tensorflow as tf\n",
    "import tensorflow_hub as hub\n",
    "\n",
    "elmo = hub.load(\"https://tfhub.dev/google/elmo/3\")\n",
    "embeddings = elmo.signatures[\"default\"](\n",
    "    tf.constant([\n",
    "      \"i like green eggs and ham\",\n",
    "      \"would you eat them in a box\"\n",
    "    ]))[\"elmo\"]\n",
    "print(embeddings.shape)\n",
    "\n"
   ]
  },
  {
   "cell_type": "code",
   "execution_count": 7,
   "id": "b3a162bd",
   "metadata": {},
   "outputs": [
    {
     "name": "stdout",
     "output_type": "stream",
     "text": [
      "Model: \"sequential\"\n",
      "_________________________________________________________________\n",
      "Layer (type)                 Output Shape              Param #   \n",
      "=================================================================\n",
      "keras_layer (KerasLayer)     (None, 1024)              93600852  \n",
      "=================================================================\n",
      "Total params: 93,600,852\n",
      "Trainable params: 0\n",
      "Non-trainable params: 93,600,852\n",
      "_________________________________________________________________\n",
      "(2, 1024)\n"
     ]
    }
   ],
   "source": [
    "import tensorflow as tf\n",
    "import tensorflow_hub as hub\n",
    "\n",
    "embed = hub.KerasLayer(\n",
    "    \"https://tfhub.dev/google/elmo/3\",\n",
    "    input_shape=[],     # Expects a tensor of shape [batch_size] as input.\n",
    "    dtype=tf.string)    # Expects a tf.string input tensor.\n",
    "model = tf.keras.Sequential([embed])\n",
    "model.summary()\n",
    "\n",
    "embeddings = model.predict([\n",
    "   \"i i like green eggs and ham\",\n",
    "   \"would you eat them in a box\"\n",
    "])\n",
    "print(embeddings.shape)\n"
   ]
  }
 ],
 "metadata": {
  "kernelspec": {
   "display_name": "Python 3",
   "language": "python",
   "name": "python3"
  },
  "language_info": {
   "codemirror_mode": {
    "name": "ipython",
    "version": 3
   },
   "file_extension": ".py",
   "mimetype": "text/x-python",
   "name": "python",
   "nbconvert_exporter": "python",
   "pygments_lexer": "ipython3",
   "version": "3.6.12"
  }
 },
 "nbformat": 4,
 "nbformat_minor": 5
}
