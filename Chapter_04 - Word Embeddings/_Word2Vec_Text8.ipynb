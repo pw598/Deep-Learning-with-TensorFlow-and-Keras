{
 "cells": [
  {
   "cell_type": "code",
   "execution_count": 3,
   "id": "67e7d371",
   "metadata": {},
   "outputs": [],
   "source": [
    "import gensim.downloader as api\n",
    "from gensim.models import Word2Vec\n",
    "\n",
    "info = api.info(\"text8\")\n",
    "assert(len(info) > 0)\n",
    "\n",
    "dataset = api.load(\"text8\")\n",
    "model = Word2Vec(dataset)\n",
    "\n",
    "model.save(\"data/text8-word2vec.bin\")\n"
   ]
  },
  {
   "cell_type": "code",
   "execution_count": 4,
   "id": "99ba3225",
   "metadata": {},
   "outputs": [
    {
     "ename": "AttributeError",
     "evalue": "The vocab attribute was removed from KeyedVector in Gensim 4.0.0.\nUse KeyedVector's .key_to_index dict, .index_to_key list, and methods .get_vecattr(key, attr) and .set_vecattr(key, attr, new_val) instead.\nSee https://github.com/RaRe-Technologies/gensim/wiki/Migrating-from-Gensim-3.x-to-4",
     "output_type": "error",
     "traceback": [
      "\u001b[1;31m---------------------------------------------------------------------------\u001b[0m",
      "\u001b[1;31mAttributeError\u001b[0m                            Traceback (most recent call last)",
      "Cell \u001b[1;32mIn[4], line 17\u001b[0m\n\u001b[0;32m     14\u001b[0m word_vectors \u001b[38;5;241m=\u001b[39m model\u001b[38;5;241m.\u001b[39mwv\n\u001b[0;32m     16\u001b[0m \u001b[38;5;66;03m# get words in the vocabulary\u001b[39;00m\n\u001b[1;32m---> 17\u001b[0m words \u001b[38;5;241m=\u001b[39m word_vectors\u001b[38;5;241m.\u001b[39mvocab\u001b[38;5;241m.\u001b[39mkeys()\n\u001b[0;32m     18\u001b[0m \u001b[38;5;28mprint\u001b[39m([x \u001b[38;5;28;01mfor\u001b[39;00m i, x \u001b[38;5;129;01min\u001b[39;00m \u001b[38;5;28menumerate\u001b[39m(words) \u001b[38;5;28;01mif\u001b[39;00m i \u001b[38;5;241m<\u001b[39m \u001b[38;5;241m10\u001b[39m])\n\u001b[0;32m     19\u001b[0m \u001b[38;5;28;01massert\u001b[39;00m(\u001b[38;5;124m\"\u001b[39m\u001b[38;5;124mking\u001b[39m\u001b[38;5;124m\"\u001b[39m \u001b[38;5;129;01min\u001b[39;00m words)\n",
      "File \u001b[1;32mC:\\ProgramData\\anaconda3\\Lib\\site-packages\\gensim\\models\\keyedvectors.py:734\u001b[0m, in \u001b[0;36mKeyedVectors.vocab\u001b[1;34m(self)\u001b[0m\n\u001b[0;32m    732\u001b[0m \u001b[38;5;129m@property\u001b[39m\n\u001b[0;32m    733\u001b[0m \u001b[38;5;28;01mdef\u001b[39;00m \u001b[38;5;21mvocab\u001b[39m(\u001b[38;5;28mself\u001b[39m):\n\u001b[1;32m--> 734\u001b[0m     \u001b[38;5;28;01mraise\u001b[39;00m \u001b[38;5;167;01mAttributeError\u001b[39;00m(\n\u001b[0;32m    735\u001b[0m         \u001b[38;5;124m\"\u001b[39m\u001b[38;5;124mThe vocab attribute was removed from KeyedVector in Gensim 4.0.0.\u001b[39m\u001b[38;5;130;01m\\n\u001b[39;00m\u001b[38;5;124m\"\u001b[39m\n\u001b[0;32m    736\u001b[0m         \u001b[38;5;124m\"\u001b[39m\u001b[38;5;124mUse KeyedVector\u001b[39m\u001b[38;5;124m'\u001b[39m\u001b[38;5;124ms .key_to_index dict, .index_to_key list, and methods \u001b[39m\u001b[38;5;124m\"\u001b[39m\n\u001b[0;32m    737\u001b[0m         \u001b[38;5;124m\"\u001b[39m\u001b[38;5;124m.get_vecattr(key, attr) and .set_vecattr(key, attr, new_val) instead.\u001b[39m\u001b[38;5;130;01m\\n\u001b[39;00m\u001b[38;5;124m\"\u001b[39m\n\u001b[0;32m    738\u001b[0m         \u001b[38;5;124m\"\u001b[39m\u001b[38;5;124mSee https://github.com/RaRe-Technologies/gensim/wiki/Migrating-from-Gensim-3.x-to-4\u001b[39m\u001b[38;5;124m\"\u001b[39m\n\u001b[0;32m    739\u001b[0m     )\n",
      "\u001b[1;31mAttributeError\u001b[0m: The vocab attribute was removed from KeyedVector in Gensim 4.0.0.\nUse KeyedVector's .key_to_index dict, .index_to_key list, and methods .get_vecattr(key, attr) and .set_vecattr(key, attr, new_val) instead.\nSee https://github.com/RaRe-Technologies/gensim/wiki/Migrating-from-Gensim-3.x-to-4"
     ]
    }
   ],
   "source": [
    "from gensim.models import KeyedVectors\n",
    "\n",
    "def print_most_similar(word_conf_pairs, k):\n",
    "    for i, (word, conf) in enumerate(word_conf_pairs):\n",
    "        print(\"{:.3f} {:s}\".format(conf, word))\n",
    "        if i >= k-1:\n",
    "            break\n",
    "    if k < len(word_conf_pairs):\n",
    "        print(\"...\")\n",
    "\n",
    "\n",
    "\n",
    "model = KeyedVectors.load(\"data/text8-word2vec.bin\")\n",
    "word_vectors = model.wv\n",
    "\n",
    "# get words in the vocabulary\n",
    "words = word_vectors.vocab.keys()\n",
    "print([x for i, x in enumerate(words) if i < 10])\n",
    "assert(\"king\" in words)\n",
    "\n",
    "\n",
    "print(\"# words similar to king\")\n",
    "print_most_similar(word_vectors.most_similar(\"king\"), 5)\n",
    "\n",
    "print(\"# vector arithmetic with words (cosine similarity)\")\n",
    "print(\"# france + berlin - paris = ?\")\n",
    "print_most_similar(word_vectors.most_similar(\n",
    "    positive=[\"france\", \"berlin\"], negative=[\"paris\"]), 1\n",
    ")\n",
    "\n",
    "print(\"# vector arithmetic with words (Levy and Goldberg)\")\n",
    "print(\"# france + berlin - paris = ?\")\n",
    "print_most_similar(word_vectors.most_similar_cosmul(\n",
    "    positive=[\"france\", \"berlin\"], negative=[\"paris\"]), 1\n",
    ")\n",
    "\n",
    "print(\"# find odd one out\")\n",
    "print(\"# [hindus, parsis, singapore, christians]\")\n",
    "print(word_vectors.doesnt_match([\"hindus\", \"parsis\", \n",
    "    \"singapore\", \"christians\"]))\n",
    "\n",
    "print(\"# similarity between words\")\n",
    "for word in [\"woman\", \"dog\", \"whale\", \"tree\"]:\n",
    "    print(\"similarity({:s}, {:s}) = {:.3f}\".format(\n",
    "        \"man\", word,\n",
    "        word_vectors.similarity(\"man\", word)\n",
    "    ))\n",
    "\n",
    "print(\"# similar by word\")\n",
    "print(print_most_similar(\n",
    "    word_vectors.similar_by_word(\"singapore\"), 5)\n",
    ")\n",
    "\n",
    "print(\"# distance between vectors\")\n",
    "print(\"distance(singapore, malaysia) = {:.3f}\".format(\n",
    "    word_vectors.distance(\"singapore\", \"malaysia\")\n",
    "))\n",
    "\n",
    "vec_song = word_vectors[\"song\"]\n",
    "print(\"\\n# output vector obtained directly, shape:\", vec_song.shape)\n",
    "\n",
    "vec_song_2 = word_vectors.word_vec(\"song\", use_norm=True)\n",
    "print(\"# output vector obtained using word_vec, shape:\", vec_song_2.shape)\n"
   ]
  },
  {
   "cell_type": "code",
   "execution_count": null,
   "id": "717dec03",
   "metadata": {},
   "outputs": [],
   "source": []
  }
 ],
 "metadata": {
  "kernelspec": {
   "display_name": "Python 3 (ipykernel)",
   "language": "python",
   "name": "python3"
  },
  "language_info": {
   "codemirror_mode": {
    "name": "ipython",
    "version": 3
   },
   "file_extension": ".py",
   "mimetype": "text/x-python",
   "name": "python",
   "nbconvert_exporter": "python",
   "pygments_lexer": "ipython3",
   "version": "3.11.4"
  }
 },
 "nbformat": 4,
 "nbformat_minor": 5
}
