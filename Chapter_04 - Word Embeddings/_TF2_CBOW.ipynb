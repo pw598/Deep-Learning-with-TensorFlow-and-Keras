{
 "cells": [
  {
   "cell_type": "code",
   "execution_count": 1,
   "id": "a4b0be1e",
   "metadata": {},
   "outputs": [
    {
     "name": "stdout",
     "output_type": "stream",
     "text": [
      "Model: \"cbow_model\"\n",
      "_________________________________________________________________\n",
      "Layer (type)                 Output Shape              Param #   \n",
      "=================================================================\n",
      "embedding (Embedding)        multiple                  1500000   \n",
      "_________________________________________________________________\n",
      "dense (Dense)                multiple                  1505000   \n",
      "=================================================================\n",
      "Total params: 3,005,000\n",
      "Trainable params: 3,005,000\n",
      "Non-trainable params: 0\n",
      "_________________________________________________________________\n",
      "[[-0.00747491 -0.00965876  0.00058828 ... -0.03070909 -0.02074809\n",
      "  -0.01729073]\n",
      " [-0.02535501  0.00546921  0.03070942 ...  0.03015628 -0.00556514\n",
      "   0.01839813]\n",
      " [-0.00685583  0.01317265 -0.01770947 ...  0.02328325  0.00451733\n",
      "   0.00912225]\n",
      " ...\n",
      " [-0.01492023  0.02622795  0.02864654 ... -0.03148879 -0.02111962\n",
      "   0.02042102]\n",
      " [-0.00662356  0.01656102 -0.01947211 ... -0.02060558 -0.00068993\n",
      "  -0.01413563]\n",
      " [ 0.01263543  0.0252607   0.02902652 ...  0.00723125  0.03273669\n",
      "  -0.00805153]] (5000, 300)\n"
     ]
    }
   ],
   "source": [
    "import tensorflow as tf\n",
    "\n",
    "class CBOWModel(tf.keras.Model):\n",
    "    def __init__(self, vocab_sz, emb_sz, window_sz, **kwargs):\n",
    "        super(CBOWModel, self).__init__(**kwargs)\n",
    "        self.embedding = tf.keras.layers.Embedding(\n",
    "            input_dim=vocab_sz,\n",
    "            output_dim=emb_sz,\n",
    "            embeddings_initializer=\"glorot_uniform\",\n",
    "            input_length=window_sz*2\n",
    "        )\n",
    "        self.dense = tf.keras.layers.Dense(\n",
    "            vocab_sz,\n",
    "            kernel_initializer=\"glorot_uniform\",\n",
    "            activation=\"softmax\"\n",
    "        )\n",
    "\n",
    "    def call(self, x):\n",
    "        x = self.embedding(x)\n",
    "        x = tf.reduce_mean(x, axis=1)\n",
    "        x = self.dense(x)\n",
    "        return x\n",
    "\n",
    "\n",
    "VOCAB_SIZE = 5000\n",
    "EMBED_SIZE = 300\n",
    "WINDOW_SIZE = 1  # 3 word window, 1 on left, 1 on right\n",
    "\n",
    "model = CBOWModel(VOCAB_SIZE, EMBED_SIZE, WINDOW_SIZE)\n",
    "model.build(input_shape=(None, VOCAB_SIZE))\n",
    "model.compile(optimizer=tf.optimizers.Adam(),\n",
    "    loss=\"categorical_crossentropy\",\n",
    "    metrics=[\"accuracy\"])\n",
    "\n",
    "model.summary()\n",
    "\n",
    "# train the model here\n",
    "\n",
    "# retrieve embeddings from trained model\n",
    "emb_layer = [layer for layer in model.layers \n",
    "    if layer.name.startswith(\"embedding\")][0]\n",
    "emb_weight = [weight.numpy() for weight in emb_layer.weights\n",
    "    if weight.name.endswith(\"/embeddings:0\")][0]\n",
    "print(emb_weight, emb_weight.shape)\n"
   ]
  },
  {
   "cell_type": "code",
   "execution_count": null,
   "id": "591d5843",
   "metadata": {},
   "outputs": [],
   "source": []
  }
 ],
 "metadata": {
  "kernelspec": {
   "display_name": "Python 3",
   "language": "python",
   "name": "python3"
  },
  "language_info": {
   "codemirror_mode": {
    "name": "ipython",
    "version": 3
   },
   "file_extension": ".py",
   "mimetype": "text/x-python",
   "name": "python",
   "nbconvert_exporter": "python",
   "pygments_lexer": "ipython3",
   "version": "3.6.12"
  }
 },
 "nbformat": 4,
 "nbformat_minor": 5
}
